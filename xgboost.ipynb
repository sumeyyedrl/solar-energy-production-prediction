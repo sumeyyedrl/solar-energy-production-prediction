{
  "cells": [
    {
      "cell_type": "code",
      "execution_count": 26,
      "metadata": {
        "gather": {
          "logged": 1729865677433
        }
      },
      "outputs": [],
      "source": [
        "import pandas as pd\n",
        "import numpy as np\n",
        "from datetime import datetime, timedelta\n",
        "import requests\n",
        "import json\n",
        "pd.set_option(\"display.max_rows\",500) \n",
        "pd.set_option(\"display.max_columns\",500) \n",
        "pd.set_option('display.max_colwidth', None)\n",
        "import requests\n",
        "import json\n",
        "import time\n",
        "import requests\n",
        "import json\n",
        "from datetime import datetime, timedelta\n",
        "from dateutil.relativedelta import relativedelta\n",
        "import pandas as pd\n",
        "import requests_cache\n",
        "from retry_requests import retry\n",
        "from datetime import datetime, timedelta\n",
        "import xgboost as xgb\n",
        "from sklearn.metrics import mean_absolute_error, r2_score\n",
        "from sklearn.model_selection import GridSearchCV\n",
        "import matplotlib.pyplot as plt\n",
        "from xgboost import plot_importance"
      ]
    },
    {
      "cell_type": "markdown",
      "metadata": {},
      "source": [
        "# Güneş Enerjisi Verilerinin Çekilmesi (EPİAŞ)"
      ]
    },
    {
      "cell_type": "markdown",
      "metadata": {},
      "source": [
        "Bu başlık altındaki API ile çekilen veri güneş_enerji_verileri klasöründe hazır olarak sunulmuştur. (gunesenerji_uretim.csv)"
      ]
    },
    {
      "cell_type": "code",
      "execution_count": null,
      "metadata": {},
      "outputs": [],
      "source": [
        "url = \"https://giris.epias.com.tr/cas/v1/tickets\"\n",
        "payload = {\n",
        "    'username': 'your_username',\n",
        "    'password': 'your_password'\n",
        "}\n",
        "headers = {\n",
        "    'Content-Type': 'application/x-www-form-urlencoded',\n",
        "    'Accept': 'text/plain'\n",
        "}\n",
        "response = requests.post(url, data=payload, headers=headers)\n",
        "\n",
        "if response.status_code == 201:\n",
        "    tgt = response.text\n",
        "    print(\"TGT:\", tgt)\n",
        "else:\n",
        "    print(\"TGT alınırken hata oluştu:\", response.status_code)\n",
        "    print(\"Yanıt:\", response.text)"
      ]
    },
    {
      "cell_type": "code",
      "execution_count": null,
      "metadata": {},
      "outputs": [],
      "source": [
        "url = \"https://seffaflik.epias.com.tr/electricity-service/v1/renewables/data/licensed-realtime-generation\"\n",
        "\n",
        "headers = {\n",
        "    \"Accept-Language\": \"en\",\n",
        "    \"Accept\": \"application/json\",\n",
        "    \"Content-Type\": \"application/json\",\n",
        "    \"TGT\": tgt\n",
        "}\n",
        "start_date = datetime(2022, 1, 1)\n",
        "end_date = datetime(2025, 3, 2)\n",
        "\n",
        "all_data = []\n",
        "\n",
        "current_start = start_date\n",
        "while current_start < end_date:\n",
        "    current_end = current_start + relativedelta(months=1)\n",
        "\n",
        "    payload = {\n",
        "        \"startDate\": current_start.isoformat() + \"+03:00\",\n",
        "        \"endDate\": current_end.isoformat() + \"+03:00\"\n",
        "    }\n",
        "\n",
        "    response = requests.post(url, headers=headers, data=json.dumps(payload))\n",
        "    print(f\"İstek: {payload['startDate']} - {payload['endDate']}\")\n",
        "\n",
        "    if response.status_code == 200:\n",
        "        data = response.json()\n",
        "        all_data.append(data)\n",
        "        print(\"Başarılı\")\n",
        "    else:\n",
        "        print(\"Hata:\", response.status_code)\n",
        "        print(response.text)\n",
        "\n",
        "    current_start = current_end\n",
        "\n",
        "df_gunes=pd.DataFrame(all_data[0][\"items\"])\n",
        "df_gunes=df_gunes[[\"date\",\"gunes\"]]"
      ]
    },
    {
      "cell_type": "code",
      "execution_count": null,
      "metadata": {},
      "outputs": [],
      "source": [
        "all_items = []\n",
        "for entry in all_data:\n",
        "    items = entry.get(\"items\", [])\n",
        "    all_items.extend(items)\n",
        "\n",
        "df_gunes = pd.DataFrame(all_items)\n",
        "df_gunes=df_gunes[[\"date\",\"gunes\"]]\n",
        "df_gunes.to_csv(\"güneş_enerji_verileri/gunesenerji_uretim.csv\", index=False)"
      ]
    },
    {
      "cell_type": "markdown",
      "metadata": {},
      "source": [
        "# Kurulu Güç Verilerinin Çekilmesi (EPİAŞ)"
      ]
    },
    {
      "cell_type": "markdown",
      "metadata": {},
      "source": [
        "Bu başlık altındaki API ile çekilen veri güneş_enerji_verileri klasöründe hazır olarak sunulmuştur. (epias_kuruluguc.csv)"
      ]
    },
    {
      "cell_type": "code",
      "execution_count": null,
      "metadata": {},
      "outputs": [],
      "source": [
        "url = \"https://seffaflik.epias.com.tr/electricity-service/v1/renewables/data/renewables-participant\"\n",
        "\n",
        "headers = {\n",
        "    \"Accept-Language\": \"en\",\n",
        "    \"Accept\": \"application/json\",\n",
        "    \"Content-Type\": \"application/json\",\n",
        "    \"TGT\": tgt\n",
        "}\n",
        "\n",
        "years = [2022, 2023, 2024, 2025]\n",
        "all_data = []\n",
        "\n",
        "for year in years:\n",
        "    payload = {\"year\": str(year)}\n",
        "    response = requests.post(url, headers=headers, data=json.dumps(payload))\n",
        "\n",
        "    print(f\"🔄 {year} verisi isteniyor...\")\n",
        "\n",
        "    if response.status_code == 200:\n",
        "        data = response.json()\n",
        "        all_data.append(data)\n",
        "        print(f\"{year} verisi başarıyla çekildi.\")\n",
        "    else:\n",
        "        print(f\"{year} verisi çekilemedi. Kod: {response.status_code}\")\n",
        "        print(\"Hata mesajı:\", response.text)"
      ]
    },
    {
      "cell_type": "code",
      "execution_count": 32,
      "metadata": {},
      "outputs": [],
      "source": [
        "all_items = []\n",
        "for entry in all_data:\n",
        "    items = entry.get(\"items\", [])\n",
        "    all_items.extend(items)\n",
        "\n",
        "df_kuruluguc = pd.DataFrame(all_items)\n",
        "df_kuruluguc=df_kuruluguc[df_kuruluguc[\"facilityType\"]==\"Fotovoltaik\"]\n",
        "df_kuruluguc=df_kuruluguc[[\"orgName\",\"facilityName\",\"installedPower\",\"entryDate\"]]\n",
        "df_kuruluguc.drop_duplicates(inplace=True)\n",
        "df_kuruluguc = df_kuruluguc.loc[df_kuruluguc.groupby([\"orgName\", \"facilityName\"])[\"installedPower\"].idxmax()].reset_index(drop=True)\n",
        "df_kuruluguc_il= pd.read_excel(\"güneş_enerji_verileri/il_kuruluguc.xlsx\")\n",
        "df_kuruluguc=pd.merge(df_kuruluguc,df_kuruluguc_il,on=[\"facilityName\"],how=\"left\")\n",
        "df_kuruluguc.to_csv(\"güneş_enerji_verileri/epias_kuruluguc.csv\", index=False)"
      ]
    },
    {
      "cell_type": "markdown",
      "metadata": {},
      "source": [
        "# Hava Durumu Verilerinin Çekilmesi (OpenMeteo)"
      ]
    },
    {
      "cell_type": "markdown",
      "metadata": {},
      "source": [
        "Bu başlık altındaki API ile çekilen veri güneş_enerji_verileri klasöründe hazır olarak sunulmuştur. (weather.csv)"
      ]
    },
    {
      "cell_type": "code",
      "execution_count": null,
      "metadata": {},
      "outputs": [],
      "source": [
        "df_coordinates=pd.read_csv(\"güneş_enerji_verileri\\Coordinates.csv\")\n",
        "df_coordinates.head()"
      ]
    },
    {
      "cell_type": "code",
      "execution_count": null,
      "metadata": {},
      "outputs": [],
      "source": [
        "cache_session = requests_cache.CachedSession('.cache', expire_after=-1)\n",
        "retry_session = retry(cache_session, retries=5, backoff_factor=0.2)\n",
        "openmeteo = Client(session=retry_session)\n",
        "\n",
        "start_date = datetime(2022, 1, 1)\n",
        "end_date = datetime(2025, 3, 2)\n",
        "step = timedelta(days=90)\n",
        "\n",
        "all_city_data = []\n",
        "\n",
        "for index, row in df_coordinates.iterrows():\n",
        "    city_name = row[\"Province\"]\n",
        "    lat = row[\"latitude\"]\n",
        "    lon = row[\"longitude\"]\n",
        "    \n",
        "    current_start = start_date\n",
        "\n",
        "    while current_start < end_date:\n",
        "        current_end = min(current_start + step, end_date)\n",
        "\n",
        "        params = {\n",
        "            \"latitude\": lat,\n",
        "            \"longitude\": lon,\n",
        "            \"start_date\": current_start.strftime(\"%Y-%m-%d\"),\n",
        "            \"end_date\": current_end.strftime(\"%Y-%m-%d\"),\n",
        "            \"hourly\": [\n",
        "                \"temperature_2m\",\n",
        "                \"cloud_cover\",\n",
        "                \"is_day\",\n",
        "                \"sunshine_duration\",\n",
        "                \"rain\",\n",
        "                \"snowfall\",\n",
        "                \"global_tilted_irradiance_instant\"\n",
        "            ]\n",
        "        }\n",
        "\n",
        "        success = False\n",
        "        retry_count = 0\n",
        "        max_retries = 5\n",
        "\n",
        "        while not success and retry_count < max_retries:\n",
        "            try:\n",
        "                responses = openmeteo.weather_api(\"https://archive-api.open-meteo.com/v1/archive\", params=params)\n",
        "                response = responses[0]\n",
        "                hourly = response.Hourly()\n",
        "\n",
        "                df = pd.DataFrame({\n",
        "                    \"date\": pd.date_range(\n",
        "                        start=pd.to_datetime(hourly.Time(), unit=\"s\", utc=True),\n",
        "                        end=pd.to_datetime(hourly.TimeEnd(), unit=\"s\", utc=True),\n",
        "                        freq=pd.Timedelta(seconds=hourly.Interval()),\n",
        "                        inclusive=\"left\"\n",
        "                    ),\n",
        "                    \"temperature_2m\": hourly.Variables(0).ValuesAsNumpy(),\n",
        "                    \"cloud_cover\": hourly.Variables(1).ValuesAsNumpy(),\n",
        "                    \"is_day\": hourly.Variables(2).ValuesAsNumpy(),\n",
        "                    \"sunshine_duration\": hourly.Variables(3).ValuesAsNumpy(),\n",
        "                    \"rain\": hourly.Variables(4).ValuesAsNumpy(),\n",
        "                    \"snowfall\": hourly.Variables(5).ValuesAsNumpy(),\n",
        "                    \"global_tilted_irradiance_instant\": hourly.Variables(6).ValuesAsNumpy(),\n",
        "                })\n",
        "                df[\"city\"] = city_name\n",
        "                df[\"latitude\"] = lat\n",
        "                df[\"longitude\"] = lon\n",
        "\n",
        "                all_city_data.append(df)\n",
        "                print(f\"{city_name}: {current_start.date()} - {current_end.date()} verisi alındı.\")\n",
        "                success = True\n",
        "            except Exception as e:\n",
        "                retry_count += 1\n",
        "                print(f\"{city_name}: {current_start.date()} - {current_end.date()} verisi alınamadı. {retry_count}. deneme. Hata: {e}\")\n",
        "                time.sleep(60)\n",
        "\n",
        "        current_start = current_end\n",
        "        time.sleep(1)\n",
        "\n",
        "combined_df = pd.concat(all_city_data, ignore_index=True)"
      ]
    },
    {
      "cell_type": "code",
      "execution_count": null,
      "metadata": {},
      "outputs": [],
      "source": [
        "combined_df[\"date\"] = combined_df[\"date\"].dt.tz_convert(\"Europe/Istanbul\")\n",
        "combined_df.to_csv(\"güneş_enerji_verileri/weather.csv\", index=False)"
      ]
    },
    {
      "cell_type": "markdown",
      "metadata": {},
      "source": [
        "# Hava Durumu ve Kurulu Güç Verilerinin Birleştirilmesi"
      ]
    },
    {
      "cell_type": "code",
      "execution_count": null,
      "metadata": {},
      "outputs": [],
      "source": [
        "weather=pd.read_csv(\"güneş_enerji_verileri/weather.csv\")\n",
        "weather.head()"
      ]
    },
    {
      "cell_type": "code",
      "execution_count": null,
      "metadata": {},
      "outputs": [],
      "source": [
        "df_kuruluguc=pd.read_csv(\"güneş_enerji_verileri/epias_kuruluguc.csv\")\n",
        "df_kuruluguc.head()"
      ]
    },
    {
      "cell_type": "code",
      "execution_count": 11,
      "metadata": {},
      "outputs": [],
      "source": [
        "df_kuruluguc[\"entryDate\"] = pd.to_datetime(df_kuruluguc[\"entryDate\"])\n",
        "df_kuruluguc[\"entryDate\"]=df_kuruluguc[\"entryDate\"].dt.date\n",
        "expanded_rows = []\n",
        "for _, row in df_kuruluguc.iterrows():\n",
        "    date_range = pd.date_range(start=\"2022-01-01\", end=\"2025-03-02\", freq=\"D\")\n",
        "    for date in date_range:\n",
        "        new_row = row.copy()\n",
        "        new_row[\"entryDate\"] = date\n",
        "        expanded_rows.append(new_row)\n",
        "\n",
        "df_kuruluguc_expanded = pd.DataFrame(expanded_rows)"
      ]
    },
    {
      "cell_type": "code",
      "execution_count": null,
      "metadata": {},
      "outputs": [],
      "source": [
        "df_kuruluguc_expanded=df_kuruluguc_expanded[(df_kuruluguc_expanded[\"entryDate\"] >= pd.to_datetime(\"2022-01-01\")) & (df_kuruluguc_expanded[\"entryDate\"] <= pd.to_datetime(\"2025-03-01\"))]\n",
        "df_kuruluguc_expanded[\"entryDate\"]=df_kuruluguc_expanded[\"entryDate\"].dt.date\n",
        "df_kuruluguc_expanded2 = df_kuruluguc_expanded.groupby([\"entryDate\", \"city\"], as_index=False)[\"installedPower\"].sum()\n",
        "df_kuruluguc_expanded2.head()"
      ]
    },
    {
      "cell_type": "code",
      "execution_count": 13,
      "metadata": {},
      "outputs": [],
      "source": [
        "weather['date'] = pd.to_datetime(weather['date'])\n",
        "weather['Year'] = weather['date'].dt.year\n",
        "weather['Month'] = weather['date'].dt.month\n",
        "weather['Day'] = weather['date'].dt.day\n",
        "\n",
        "df_kuruluguc_expanded2['entryDate'] = pd.to_datetime(df_kuruluguc_expanded2['entryDate'])\n",
        "df_kuruluguc_expanded2['Year'] = df_kuruluguc_expanded2['entryDate'].dt.year\n",
        "df_kuruluguc_expanded2['Month'] = df_kuruluguc_expanded2['entryDate'].dt.month\n",
        "df_kuruluguc_expanded2['Day'] = df_kuruluguc_expanded2['entryDate'].dt.day\n",
        "\n",
        "weather = weather.merge(df_kuruluguc_expanded2[['Year', 'Month', 'Day', 'installedPower', 'city']], left_on=['Year', 'Month', 'Day','city'], right_on=['Year', 'Month', 'Day','city'], how='left').drop(columns=['Day',\"Year\",\"Month\",\"latitude\",\"longitude\"])\n",
        "weather=weather[weather[\"installedPower\"].notnull()]"
      ]
    },
    {
      "cell_type": "code",
      "execution_count": null,
      "metadata": {},
      "outputs": [],
      "source": [
        "weather[\"panel_temprature\"]=weather[\"temperature_2m\"]+(25*weather[\"global_tilted_irradiance_instant\"]/800)\n",
        "#Tp = To + (NOTC-20C)* It / 800 (NOCT (Nominal Operating Cell Temperature) --> panelin kendi sıcaklığını hesaplayan formül)"
      ]
    },
    {
      "cell_type": "code",
      "execution_count": null,
      "metadata": {},
      "outputs": [],
      "source": [
        "weather[\"productivity_per\"]=weather[\"panel_temprature\"].apply(lambda x: 1-((x-25)*0.004) if x>=25 else 1)\n",
        "# 25 derecenin üzerinde her bir derece için güneş panellerinin verimliliği %0.04 düşer.\n",
        "weather[\"productivity\"]=weather[\"installedPower\"]*weather[\"productivity_per\"]"
      ]
    },
    {
      "cell_type": "code",
      "execution_count": null,
      "metadata": {},
      "outputs": [],
      "source": [
        "weather[\"non_cloud\"] = 100 - weather[\"cloud_cover\"]\n",
        "weather[\"weather_relation\"] = weather[\"productivity\"]*weather[\"non_cloud\"]*weather[\"sunshine_duration\"]*weather[\"is_day\"]/weather[\"productivity\"].sum()/3600\n",
        "# weather_relation değişkeni hava durumu verisinden yararlanarak oluşturulan değişkendir."
      ]
    },
    {
      "cell_type": "markdown",
      "metadata": {},
      "source": [
        "# Verinin Modele Hazırlanması"
      ]
    },
    {
      "cell_type": "code",
      "execution_count": null,
      "metadata": {},
      "outputs": [],
      "source": [
        "df=pd.read_csv(\"güneş_enerji_verileri/gunesenerji_uretim.csv\")\n",
        "df=df[[\"date\",\"gunes\"]]\n",
        "df[\"date\"]=pd.to_datetime(df[\"date\"])\n",
        "df.drop_duplicates(inplace=True)\n",
        "df[\"gunes\"] = df[\"gunes\"].fillna(method=\"ffill\")\n",
        "df['gunes_1g'] = df['gunes'].shift(24)\n",
        "df.dropna(inplace=True)\n",
        "start_date = '2022-01-01'\n",
        "end_date = '2025-03-01'\n",
        "mask = (df['date'] >= start_date) & (df['date'] <= end_date)\n",
        "df = df[mask]\n",
        "df.head()"
      ]
    },
    {
      "cell_type": "code",
      "execution_count": 18,
      "metadata": {
        "gather": {
          "logged": 1729865694755
        },
        "jupyter": {
          "outputs_hidden": false,
          "source_hidden": false
        },
        "nteract": {
          "transient": {
            "deleting": false
          }
        }
      },
      "outputs": [],
      "source": [
        "df[\"hour\"]=df[\"date\"].dt.hour #onehot encoding!!!\n",
        "df[\"dayofweek\"]=df[\"date\"].dt.dayofweek #onehot encoding!!!\n",
        "df[\"month\"]=df[\"date\"].dt.month #onehot encoding!!!"
      ]
    },
    {
      "cell_type": "code",
      "execution_count": null,
      "metadata": {
        "gather": {
          "logged": 1729865694786
        },
        "jupyter": {
          "outputs_hidden": false,
          "source_hidden": false
        },
        "nteract": {
          "transient": {
            "deleting": false
          }
        }
      },
      "outputs": [],
      "source": [
        "il_sum = weather.groupby('date')['weather_relation'].sum().reset_index()\n",
        "il_sum[\"date\"]=pd.to_datetime(il_sum['date'])\n",
        "df = pd.merge(df, il_sum, on='date', how='left')\n",
        "df.dropna(inplace=True)"
      ]
    },
    {
      "cell_type": "code",
      "execution_count": 20,
      "metadata": {
        "gather": {
          "logged": 1729865694904
        },
        "jupyter": {
          "outputs_hidden": false,
          "source_hidden": false
        },
        "nteract": {
          "transient": {
            "deleting": false
          }
        }
      },
      "outputs": [],
      "source": [
        "def season(month):\n",
        "    if month in [12, 1, 2]:\n",
        "        return \"winter\"\n",
        "    elif month in [3, 4, 5]:\n",
        "        return \"spring\"\n",
        "    elif month in [6, 7, 8]:\n",
        "        return \"summer\"\n",
        "    elif month in [9, 10, 11]:\n",
        "        return \"autumn\"\n",
        "\n",
        "df[\"season\"]=df[\"date\"].dt.month.apply(season) #onehot encoding!!!"
      ]
    },
    {
      "cell_type": "code",
      "execution_count": null,
      "metadata": {},
      "outputs": [],
      "source": [
        "df=pd.get_dummies(df, columns=[\"hour\",\"dayofweek\",\"season\",\"month\"])\n",
        "df.head()"
      ]
    },
    {
      "cell_type": "code",
      "execution_count": 22,
      "metadata": {
        "gather": {
          "logged": 1729865695063
        },
        "jupyter": {
          "outputs_hidden": false,
          "source_hidden": false
        },
        "nteract": {
          "transient": {
            "deleting": false
          }
        }
      },
      "outputs": [],
      "source": [
        "train = df[(df[\"date\"] >= \"2022-01-01\") & (df[\"date\"] < \"2024-07-01\")]\n",
        "valid = df[(df[\"date\"] >= \"2024-07-01\") & (df[\"date\"] < \"2025-01-01\")]\n",
        "test = df[df[\"date\"] >= \"2025-01-01\"]\n",
        "X_train, y_train = train.drop(columns=[\"date\", \"gunes\"]), train[\"gunes\"]\n",
        "X_valid, y_valid = valid.drop(columns=[\"date\", \"gunes\"]), valid[\"gunes\"]\n",
        "X_test,  y_test  = test.drop(columns=[\"date\", \"gunes\"]),  test[\"gunes\"]"
      ]
    },
    {
      "cell_type": "markdown",
      "metadata": {},
      "source": [
        "# Model Eğitimi"
      ]
    },
    {
      "cell_type": "code",
      "execution_count": null,
      "metadata": {},
      "outputs": [],
      "source": [
        "model = xgb.XGBRegressor(\n",
        "    objective='reg:squarederror',\n",
        "    colsample_bytree=1.0,\n",
        "    gamma=0.1,\n",
        "    learning_rate=0.1,\n",
        "    max_depth=5,\n",
        "    n_estimators=100,\n",
        "    reg_alpha=0.1,\n",
        "    reg_lambda=1.5,\n",
        "    subsample=0.8,\n",
        "    random_state=42\n",
        ")\n",
        "\n",
        "model.fit(\n",
        "    X_train, y_train,\n",
        "    eval_set=[(X_train, y_train), (X_valid, y_valid)],\n",
        "    early_stopping_rounds=20,\n",
        "    verbose=True\n",
        ")\n",
        "\n",
        "predictions = model.predict(X_test)\n",
        "predictions = np.where(predictions < 0, 0, predictions)\n",
        "\n",
        "mae = mean_absolute_error(y_test, predictions)\n",
        "r2 = r2_score(y_test, predictions)\n",
        "\n",
        "print(f'MAE: {mae:.4f}, R²: {r2:.4f}')"
      ]
    },
    {
      "cell_type": "code",
      "execution_count": null,
      "metadata": {},
      "outputs": [],
      "source": [
        "plt.figure(figsize=(15, 6))\n",
        "plt.plot(y_test.values, label='Gerçek Değerler', linewidth=2)\n",
        "plt.plot(predictions, label='Tahmin Edilen Değerler', linewidth=2)\n",
        "plt.title('Gerçek vs Tahmin Edilen Değerler')\n",
        "plt.xlabel('Gözlem')\n",
        "plt.ylabel('Değer')\n",
        "plt.legend()\n",
        "plt.grid(True)\n",
        "plt.tight_layout()\n",
        "plt.show()"
      ]
    },
    {
      "cell_type": "code",
      "execution_count": null,
      "metadata": {},
      "outputs": [],
      "source": [
        "plt.figure(figsize=(10, 6))\n",
        "plot_importance(model, importance_type='gain', max_num_features=20)\n",
        "plt.title(\"XGBoost Feature Importance (Gain)\")\n",
        "plt.tight_layout()\n",
        "plt.show()"
      ]
    }
  ],
  "metadata": {
    "kernel_info": {
      "name": "python38-azureml"
    },
    "kernelspec": {
      "display_name": "base",
      "language": "python",
      "name": "python3"
    },
    "language_info": {
      "codemirror_mode": {
        "name": "ipython",
        "version": 3
      },
      "file_extension": ".py",
      "mimetype": "text/x-python",
      "name": "python",
      "nbconvert_exporter": "python",
      "pygments_lexer": "ipython3",
      "version": "3.11.4"
    },
    "microsoft": {
      "host": {
        "AzureML": {
          "notebookHasBeenCompleted": true
        }
      },
      "ms_spell_check": {
        "ms_spell_check_language": "en"
      }
    },
    "nteract": {
      "version": "nteract-front-end@1.0.0"
    }
  },
  "nbformat": 4,
  "nbformat_minor": 2
}
